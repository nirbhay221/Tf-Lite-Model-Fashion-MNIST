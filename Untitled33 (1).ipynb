{
  "nbformat": 4,
  "nbformat_minor": 0,
  "metadata": {
    "colab": {
      "name": "Untitled33.ipynb",
      "provenance": [],
      "collapsed_sections": []
    },
    "kernelspec": {
      "name": "python3",
      "display_name": "Python 3"
    },
    "accelerator": "TPU"
  },
  "cells": [
    {
      "cell_type": "code",
      "metadata": {
        "id": "gbDBLTTrZ8EH"
      },
      "source": [
        "import tensorflow as tf\n",
        "import numpy as np \n",
        "import tensorflow_datasets as  tfds\n",
        "import pathlib\n",
        "import matplotlib.pyplot as plt\n",
        "import sklearn\n",
        "from sklearn.preprocessing import StandardScaler\n",
        "tfds.disable_progress_bar()"
      ],
      "execution_count": null,
      "outputs": []
    },
    {
      "cell_type": "code",
      "metadata": {
        "id": "2mfP-cagf7e6",
        "outputId": "5f693a4b-4421-42d6-c5ff-f02e27d1df80",
        "colab": {
          "base_uri": "https://localhost:8080/",
          "height": 85
        }
      },
      "source": [
        "\n",
        "splits,info = tfds.load('fashion_mnist',with_info= True,as_supervised=True,split=['train[:80%]','train[80%:90%]','train[90%:]'])\n",
        "(train_examples,validation_examples,test_examples) = splits\n",
        "num_examples=info.splits['train'].num_examples\n",
        "num_classes = info.features['label'].num_classes\n"
      ],
      "execution_count": null,
      "outputs": [
        {
          "output_type": "stream",
          "text": [
            "\u001b[1mDownloading and preparing dataset fashion_mnist/3.0.1 (download: 29.45 MiB, generated: 36.42 MiB, total: 65.87 MiB) to /root/tensorflow_datasets/fashion_mnist/3.0.1...\u001b[0m\n",
            "Shuffling and writing examples to /root/tensorflow_datasets/fashion_mnist/3.0.1.incompletePMFM1F/fashion_mnist-train.tfrecord\n",
            "Shuffling and writing examples to /root/tensorflow_datasets/fashion_mnist/3.0.1.incompletePMFM1F/fashion_mnist-test.tfrecord\n",
            "\u001b[1mDataset fashion_mnist downloaded and prepared to /root/tensorflow_datasets/fashion_mnist/3.0.1. Subsequent calls will reuse this data.\u001b[0m\n"
          ],
          "name": "stdout"
        }
      ]
    },
    {
      "cell_type": "code",
      "metadata": {
        "id": "3PUgXd5ZhwPi",
        "outputId": "4ab06f3a-fae1-439a-b17a-1c6844f593b9",
        "colab": {
          "base_uri": "https://localhost:8080/",
          "height": 34
        }
      },
      "source": [
        "num_classes"
      ],
      "execution_count": null,
      "outputs": [
        {
          "output_type": "execute_result",
          "data": {
            "text/plain": [
              "10"
            ]
          },
          "metadata": {
            "tags": []
          },
          "execution_count": 10
        }
      ]
    },
    {
      "cell_type": "code",
      "metadata": {
        "id": "0fiQc90TjB3x"
      },
      "source": [
        "class_names = ['T-shirt_top', 'Trouser', 'Pullover', 'Dress', 'Coat',\n",
        "               'Sandal', 'Shirt', 'Sneaker', 'Bag', 'Ankle boot']"
      ],
      "execution_count": null,
      "outputs": []
    },
    {
      "cell_type": "code",
      "metadata": {
        "id": "KjttgGwsjFUu"
      },
      "source": [
        "with open('labels.txt','w') as f :\n",
        "  f.write('\\n'.join(class_names))"
      ],
      "execution_count": null,
      "outputs": []
    },
    {
      "cell_type": "code",
      "metadata": {
        "id": "UHybJ8rPjIBQ"
      },
      "source": [
        "image_size = 28"
      ],
      "execution_count": null,
      "outputs": []
    },
    {
      "cell_type": "code",
      "metadata": {
        "id": "yaJwwKmPjKDI"
      },
      "source": [
        "def format_image(image,label):\n",
        "  image = tf.image.convert_image_dtype(image, dtype=tf.float32, saturate=False)\n",
        "  \n",
        "  image = image/255.0\n",
        "  return image,label\n"
      ],
      "execution_count": null,
      "outputs": []
    },
    {
      "cell_type": "code",
      "metadata": {
        "id": "9NWPEVmZkQ02"
      },
      "source": [
        " batch_size = 256\n",
        "train_batches= train_examples.shuffle(num_examples//4).map(format_image).batch(batch_size).prefetch(1)\n",
        "validation_batch= validation_examples.cache().batch(batch_size).map(format_image)\n",
        "test_batch = test_examples.batch(1).map(format_image)\n"
      ],
      "execution_count": null,
      "outputs": []
    },
    {
      "cell_type": "code",
      "metadata": {
        "id": "ofDCoUYKnRB6"
      },
      "source": [
        "model = tf.keras.models.Sequential([\n",
        "                                  tf.keras.layers.Conv2D(filters=16,kernel_size=3,input_shape= (28,28,1),activation='relu'),\n",
        "                                   tf.keras.layers.MaxPooling2D(),\n",
        "                                   tf.keras.layers.Conv2D(filters = 32,kernel_size = 3,activation = 'relu'),\n",
        "                                   tf.keras.layers.Flatten(),\n",
        "                                   tf.keras.layers.Dense(units = 64,activation = 'relu') ,\n",
        "                                   tf.keras.layers.Dense(units = 10,activation ='softmax')\n",
        "\n",
        "\n",
        "])"
      ],
      "execution_count": null,
      "outputs": []
    },
    {
      "cell_type": "code",
      "metadata": {
        "id": "L0DYXTt_xNxt"
      },
      "source": [
        "model.compile(loss='sparse_categorical_crossentropy',optimizer = 'adam' ,metrics = ['accuracy'])"
      ],
      "execution_count": null,
      "outputs": []
    },
    {
      "cell_type": "code",
      "metadata": {
        "id": "jRlXPL1Zxij1",
        "outputId": "8138a76c-5e91-47c7-a34b-ab3a035e5651",
        "colab": {
          "base_uri": "https://localhost:8080/",
          "height": 374
        }
      },
      "source": [
        "model.fit(train_batches ,epochs =10 ,validation_data = validation_batch)"
      ],
      "execution_count": null,
      "outputs": [
        {
          "output_type": "stream",
          "text": [
            "Epoch 1/10\n",
            "188/188 [==============================] - 23s 121ms/step - loss: 1.6067 - accuracy: 0.4487 - val_loss: 0.8681 - val_accuracy: 0.6920\n",
            "Epoch 2/10\n",
            "188/188 [==============================] - 19s 102ms/step - loss: 0.7843 - accuracy: 0.7109 - val_loss: 0.7373 - val_accuracy: 0.7247\n",
            "Epoch 3/10\n",
            "188/188 [==============================] - 19s 102ms/step - loss: 0.7018 - accuracy: 0.7378 - val_loss: 0.6726 - val_accuracy: 0.7488\n",
            "Epoch 4/10\n",
            "188/188 [==============================] - 19s 102ms/step - loss: 0.6653 - accuracy: 0.7524 - val_loss: 0.6473 - val_accuracy: 0.7592\n",
            "Epoch 5/10\n",
            "188/188 [==============================] - 19s 102ms/step - loss: 0.6384 - accuracy: 0.7615 - val_loss: 0.6162 - val_accuracy: 0.7642\n",
            "Epoch 6/10\n",
            "188/188 [==============================] - 19s 101ms/step - loss: 0.6128 - accuracy: 0.7711 - val_loss: 0.5905 - val_accuracy: 0.7763\n",
            "Epoch 7/10\n",
            "188/188 [==============================] - 19s 102ms/step - loss: 0.5912 - accuracy: 0.7804 - val_loss: 0.5791 - val_accuracy: 0.7813\n",
            "Epoch 8/10\n",
            "188/188 [==============================] - 19s 101ms/step - loss: 0.5694 - accuracy: 0.7897 - val_loss: 0.5509 - val_accuracy: 0.8010\n",
            "Epoch 9/10\n",
            "188/188 [==============================] - 19s 102ms/step - loss: 0.5547 - accuracy: 0.7968 - val_loss: 0.5382 - val_accuracy: 0.8042\n",
            "Epoch 10/10\n",
            "188/188 [==============================] - 19s 102ms/step - loss: 0.5403 - accuracy: 0.8014 - val_loss: 0.5314 - val_accuracy: 0.8070\n"
          ],
          "name": "stdout"
        },
        {
          "output_type": "execute_result",
          "data": {
            "text/plain": [
              "<tensorflow.python.keras.callbacks.History at 0x7f779e8377b8>"
            ]
          },
          "metadata": {
            "tags": []
          },
          "execution_count": 18
        }
      ]
    },
    {
      "cell_type": "code",
      "metadata": {
        "id": "ti77_Pb5xtP6",
        "outputId": "76573c37-9c90-47cc-b3b7-ce1cd3199b62",
        "colab": {
          "base_uri": "https://localhost:8080/",
          "height": 275
        }
      },
      "source": [
        "export_dir = 'saved_model/1'\n",
        "tf.saved_model.save(model,export_dir)"
      ],
      "execution_count": null,
      "outputs": [
        {
          "output_type": "stream",
          "text": [
            "WARNING:tensorflow:From /usr/local/lib/python3.6/dist-packages/tensorflow/python/training/tracking/tracking.py:111: Model.state_updates (from tensorflow.python.keras.engine.training) is deprecated and will be removed in a future version.\n",
            "Instructions for updating:\n",
            "This property should not be used in TensorFlow 2.0, as updates are applied automatically.\n"
          ],
          "name": "stdout"
        },
        {
          "output_type": "stream",
          "text": [
            "WARNING:tensorflow:From /usr/local/lib/python3.6/dist-packages/tensorflow/python/training/tracking/tracking.py:111: Model.state_updates (from tensorflow.python.keras.engine.training) is deprecated and will be removed in a future version.\n",
            "Instructions for updating:\n",
            "This property should not be used in TensorFlow 2.0, as updates are applied automatically.\n"
          ],
          "name": "stderr"
        },
        {
          "output_type": "stream",
          "text": [
            "WARNING:tensorflow:From /usr/local/lib/python3.6/dist-packages/tensorflow/python/training/tracking/tracking.py:111: Layer.updates (from tensorflow.python.keras.engine.base_layer) is deprecated and will be removed in a future version.\n",
            "Instructions for updating:\n",
            "This property should not be used in TensorFlow 2.0, as updates are applied automatically.\n"
          ],
          "name": "stdout"
        },
        {
          "output_type": "stream",
          "text": [
            "WARNING:tensorflow:From /usr/local/lib/python3.6/dist-packages/tensorflow/python/training/tracking/tracking.py:111: Layer.updates (from tensorflow.python.keras.engine.base_layer) is deprecated and will be removed in a future version.\n",
            "Instructions for updating:\n",
            "This property should not be used in TensorFlow 2.0, as updates are applied automatically.\n"
          ],
          "name": "stderr"
        },
        {
          "output_type": "stream",
          "text": [
            "INFO:tensorflow:Assets written to: saved_model/1/assets\n"
          ],
          "name": "stdout"
        },
        {
          "output_type": "stream",
          "text": [
            "INFO:tensorflow:Assets written to: saved_model/1/assets\n"
          ],
          "name": "stderr"
        }
      ]
    },
    {
      "cell_type": "code",
      "metadata": {
        "id": "DBW1vkDR4KFN"
      },
      "source": [
        "mode = 'Speed'\n",
        "if mode== 'Storage':\n",
        "  optimization = tf.lite.Optimize.OPTIMIZE_FOR_SIZE\n",
        "elif mode== 'Speed':\n",
        "  optimization = tf.lite.Optimize.OPTIMIZE_FOR_SIZE\n",
        "else:\n",
        "  optimization = tf.lite.Optimize.DEFAULT"
      ],
      "execution_count": null,
      "outputs": []
    },
    {
      "cell_type": "code",
      "metadata": {
        "id": "_I7v9xSg5Y0t"
      },
      "source": [
        "converter = tf.lite.TFLiteConverter.from_saved_model(export_dir)\n",
        "converter.optimizations =[optimization]\n",
        "tflite_model = converter.convert()"
      ],
      "execution_count": null,
      "outputs": []
    },
    {
      "cell_type": "code",
      "metadata": {
        "id": "pLVVdZJi8IlR",
        "outputId": "e831bf8d-e097-4fc4-faa4-6165079cb8a1",
        "colab": {
          "base_uri": "https://localhost:8080/",
          "height": 34
        }
      },
      "source": [
        "tflite_model_file = pathlib.Path('./model.tflite')\n",
        "tflite_model_file.write_bytes(tflite_model)"
      ],
      "execution_count": null,
      "outputs": [
        {
          "output_type": "execute_result",
          "data": {
            "text/plain": [
              "259776"
            ]
          },
          "metadata": {
            "tags": []
          },
          "execution_count": 22
        }
      ]
    },
    {
      "cell_type": "code",
      "metadata": {
        "id": "HP6U2UfR8Xqv"
      },
      "source": [
        "interpreter = tf.lite.Interpreter(model_content=tflite_model)\n",
        "interpreter.allocate_tensors()\n",
        "input_index= interpreter.get_input_details()[0]['index']\n",
        "output_index= interpreter.get_output_details()[0]['index']"
      ],
      "execution_count": null,
      "outputs": []
    },
    {
      "cell_type": "code",
      "metadata": {
        "id": "ZyVz6fGRFY4N"
      },
      "source": [
        "predictions = []\n",
        "test_labels = []\n",
        "test_images= []\n",
        "for img,label in test_batch.take(50):\n",
        "  interpreter.set_tensor(input_index,img)\n",
        "  interpreter.invoke()\n",
        "  predictions.append(interpreter.get_tensor(output_index))\n",
        "  test_labels.append(label[0])\n",
        "  test_images.append(np.array(img))"
      ],
      "execution_count": null,
      "outputs": []
    },
    {
      "cell_type": "code",
      "metadata": {
        "id": "o48Hc6lAHbcK"
      },
      "source": [
        "\n",
        "def plot_image(i, predictions_array, true_label, img):\n",
        "    predictions_array, true_label, img = predictions_array[i], true_label[i], img[i]\n",
        "    plt.grid(False)\n",
        "    plt.xticks([])\n",
        "    plt.yticks([])\n",
        "    \n",
        "    img = np.squeeze(img)\n",
        "    \n",
        "    plt.imshow(img, cmap=plt.cm.binary)\n",
        "    \n",
        "    predicted_label = np.argmax(predictions_array)\n",
        "    \n",
        "    if predicted_label == true_label.numpy():\n",
        "        color = 'green'\n",
        "    else:\n",
        "        color = 'red'\n",
        "    \n",
        "    plt.xlabel(\"{} {:2.0f}% ({})\".format(class_names[predicted_label],\n",
        "                                         100*np.max(predictions_array),\n",
        "                                         class_names[true_label]), color=color)"
      ],
      "execution_count": null,
      "outputs": []
    },
    {
      "cell_type": "code",
      "metadata": {
        "id": "bRbjY21vJQZX"
      },
      "source": [
        "\n",
        "def plot_value_array(i, predictions_array, true_label):\n",
        "    predictions_array, true_label = predictions_array[i], true_label[i]\n",
        "    plt.grid(False)\n",
        "    plt.xticks(list(range(10)), class_names, rotation='vertical')\n",
        "    plt.yticks([])\n",
        "    thisplot = plt.bar(range(10), predictions_array[0], color=\"#777777\")\n",
        "    plt.ylim([0, 1])\n",
        "    predicted_label = np.argmax(predictions_array[0])\n",
        "\n",
        "    thisplot[predicted_label].set_color('red')\n",
        "    thisplot[true_label].set_color('green')"
      ],
      "execution_count": null,
      "outputs": []
    },
    {
      "cell_type": "code",
      "metadata": {
        "id": "4LTiA4HuJXO7",
        "outputId": "9345175a-3e16-4033-efe0-fd9befca67e4",
        "colab": {
          "base_uri": "https://localhost:8080/",
          "height": 489
        }
      },
      "source": [
        "index = 5 #@param {type:\"slider\", min:1, max:50, step:1}\n",
        "plt.figure(figsize=(6,3))\n",
        "plt.subplot(1,2,1)\n",
        "plot_image(index, predictions, test_labels, test_images)\n",
        "plt.show()\n",
        "plot_value_array(index, predictions, test_labels)\n",
        "plt.show()"
      ],
      "execution_count": null,
      "outputs": [
        {
          "output_type": "display_data",
          "data": {
            "image/png": "[encoded data removed]",
            "text/plain": [
              "<Figure size 432x216 with 1 Axes>"
            ]
          },
          "metadata": {
            "tags": []
          }
        },
        {
          "output_type": "display_data",
          "data": {
            "image/png": "[encoded data removed]",
            "text/plain": [
              "<Figure size 432x288 with 1 Axes>"
            ]
          },
          "metadata": {
            "tags": [],
            "needs_background": "light"
          }
        }
      ]
    },
    {
      "cell_type": "code",
      "metadata": {
        "id": "GItFCHrPJbbX"
      },
      "source": [
        ""
      ],
      "execution_count": null,
      "outputs": []
    }
  ]
}